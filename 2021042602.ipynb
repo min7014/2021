{
  "nbformat": 4,
  "nbformat_minor": 0,
  "metadata": {
    "colab": {
      "name": "2021042602.ipynb",
      "provenance": [],
      "collapsed_sections": [],
      "include_colab_link": true
    },
    "kernelspec": {
      "name": "python3",
      "display_name": "Python 3"
    }
  },
  "cells": [
    {
      "cell_type": "markdown",
      "metadata": {
        "id": "view-in-github",
        "colab_type": "text"
      },
      "source": [
        "<a href=\"https://colab.research.google.com/github/min7014/2021/blob/main/2021042602.ipynb\" target=\"_parent\"><img src=\"https://colab.research.google.com/assets/colab-badge.svg\" alt=\"Open In Colab\"/></a>"
      ]
    },
    {
      "cell_type": "markdown",
      "metadata": {
        "id": "v9q19TnrsJxn"
      },
      "source": [
        "# 수학교사와 학생을 위한 Geogebra와 수학의 시각화\n",
        "(Geogebra를 활용한 수업자료 제작과 수학문제 탐구활동)\n",
        "\n",
        "ISBN 979-11-87541-13-4\n",
        "\n",
        "강의록을 모아 책으로 출간하게 되었습니다.\n",
        "\n",
        "자료의 수정과 효율적인 사용을 위하여 각각의\n",
        "\n",
        "강의록 파일을 공개합니다.\n",
        "\n",
        "아래는 공개된 강의록 파일입니다. \n",
        "\n",
        "　"
      ]
    },
    {
      "cell_type": "markdown",
      "metadata": {
        "id": "2uw35zpOUaxw"
      },
      "source": [
        "## Geogebra 시작\n",
        "\n",
        "- [1.1 프로그램 설치 강의록](https://min7014.github.io/2021/2021042603.pdf#toolbar=0&view=FitH&scrollbar=0)"
      ]
    },
    {
      "cell_type": "markdown",
      "metadata": {
        "id": "YCXvTuLjVm-q"
      },
      "source": [
        "## Geogebra를 활용한 기하와 함수\n",
        "\n",
        "- [2.1 예각에 대한 사인법칙 강의록](https://min7014.github.io/2021/2021042604.pdf#toolbar=0&view=FitH&scrollbar=0)\n",
        "\n",
        "- [2.2 제한된 범위에서 이차함수의 최대최소 강의록](https://min7014.github.io/2021/2021042605.pdf#toolbar=0&view=FitH&scrollbar=0)\n",
        "- [2.3 탄젠트함수 강의록](https://min7014.github.io/2021/2021042606.pdf#toolbar=0&view=FitH&scrollbar=0)\n",
        "\n"
      ]
    },
    {
      "cell_type": "markdown",
      "metadata": {
        "id": "vej8cO7dVscg"
      },
      "source": [
        "\n",
        "## Geogebra를 활용한 통계\n",
        "\n",
        "- [3.1 큰 수의 법칙 강의록](https://min7014.github.io/2021/2021042607.pdf#toolbar=0&view=FitH&scrollbar=0)\n",
        "- [3.2 이항분포와 정규분포의 관계 강의록](https://min7014.github.io/2021/2021042608.pdf#toolbar=0&view=FitH&scrollbar=0)\n",
        "- [3.3 독립시행의 확률 강의록](https://min7014.github.io/2021/2021042609.pdf#toolbar=0&view=FitH&scrollbar=0) \n",
        "- [3.4 중심극한정리 강의록](https://min7014.github.io/2021/2021042610.pdf#toolbar=0&view=FitH&scrollbar=0)\n",
        "- [3.5 뷔퐁의 바늘 문제 강의록](https://min7014.github.io/2021/2021042611.pdf#toolbar=0&view=FitH&scrollbar=0)  \n"
      ]
    },
    {
      "cell_type": "markdown",
      "metadata": {
        "id": "NHxPsRSXVuPB"
      },
      "source": [
        "\n",
        "## Geogebra를 활용한 문제탐구\n",
        "- [4.1 도형의 자취 문제 강의록](https://min7014.github.io/2021/2021042612.pdf#toolbar=0&view=FitH&scrollbar=0)\n",
        "\n",
        "- [4.2 도형의 자취 문제의 변형 강의록](https://min7014.github.io/2021/2021042613.pdf#toolbar=0&view=FitH&scrollbar=0)\n"
      ]
    },
    {
      "cell_type": "markdown",
      "metadata": {
        "id": "1Bn25uQMVxZO"
      },
      "source": [
        "## Geogebra를 활용한 방과후 활동\n",
        "- [5.1 스트링 아트 강의록](https://min7014.github.io/2021/2021042614.pdf#toolbar=0&view=FitH&scrollbar=0)\n",
        "\n",
        "- [5.2 사이클로이드 강의록](https://min7014.github.io/2021/2021042615.pdf#toolbar=0&view=FitH&scrollbar=0)\n",
        "\n",
        "- [5.3 프렉탈 코흐 눈송이 강의록](https://min7014.github.io/2021/2021042616.pdf#toolbar=0&view=FitH&scrollbar=0)\n"
      ]
    },
    {
      "cell_type": "markdown",
      "metadata": {
        "id": "eckd5m5WVzI0"
      },
      "source": [
        "\n",
        "- 6 Geogebra를 활용한 시험문제 제작 강의록:  (From Google Drive) https://goo.gl/uuR5DA (From Homepage) https://goo.gl/LjSFPj  \n"
      ]
    },
    {
      "cell_type": "markdown",
      "metadata": {
        "id": "Pgaw50WPV1Iw"
      },
      "source": [
        "\n",
        "- 7 타원 내부에서의 포락선 강의록: (From Google Drive) https://goo.gl/HAq93C (From Homepage) https://goo.gl/C4c9BF"
      ]
    }
  ]
}