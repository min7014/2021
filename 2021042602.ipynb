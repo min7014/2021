{
  "nbformat": 4,
  "nbformat_minor": 0,
  "metadata": {
    "colab": {
      "name": "2021042602.ipynb",
      "provenance": [],
      "collapsed_sections": [],
      "include_colab_link": true
    },
    "kernelspec": {
      "name": "python3",
      "display_name": "Python 3"
    }
  },
  "cells": [
    {
      "cell_type": "markdown",
      "metadata": {
        "id": "view-in-github",
        "colab_type": "text"
      },
      "source": [
        "<a href=\"https://colab.research.google.com/github/min7014/2021/blob/main/2021042602.ipynb\" target=\"_parent\"><img src=\"https://colab.research.google.com/assets/colab-badge.svg\" alt=\"Open In Colab\"/></a>"
      ]
    },
    {
      "cell_type": "markdown",
      "metadata": {
        "id": "v9q19TnrsJxn"
      },
      "source": [
        "# 수학교사와 학생을 위한 Geogebra와 수학의 시각화(Geogebra를 활용한 수업자료 제작과 수학문제 탐구활동)\n",
        "\n",
        "ISBN 979-11-87541-13-4\n",
        "\n",
        "강의록을 모아 책으로 출간하게 되었습니다.\n",
        "\n",
        "자료의 수정과 효율적인 사용을 위하여 각각의\n",
        "\n",
        "강의록 파일을 공개합니다.\n",
        "\n",
        "아래는 공개된 강의록 파일입니다. 가능하면 구글드라이브를 활용해주시기 바랍니다.\n",
        "\n",
        "개인 홈페이지는 많은 사람이 쓰면 속도가 늦어질 수 있습니다.\n",
        "\n",
        "　"
      ]
    },
    {
      "cell_type": "markdown",
      "metadata": {
        "id": "2uw35zpOUaxw"
      },
      "source": [
        "\n",
        "- [1.1 프로그램 설치 강의록](https://min7014.github.io/2021/2021042603.pdf#toolbar=0&view=Fit&scrollbar=0):  (From Google Drive)  https://goo.gl/wqwJ6v (From Homepage ) https://goo.gl/C74he6"
      ]
    },
    {
      "cell_type": "markdown",
      "metadata": {
        "id": "YCXvTuLjVm-q"
      },
      "source": [
        "\n",
        "- 2.1 예각에 대한 사인법칙 강의록:  (From Google Drive)  https://goo.gl/3B4nMD (From Homepage ) https://goo.gl/j6upKS\n",
        "\n",
        "- 2.2 제한된 범위에서 이차함수의 최대최소 강의록:  (From Google Drive)  https://goo.gl/bh1fQC (From Homepage  ) https://goo.gl/fHZQqm\n",
        "\n",
        "- 2.3 탄젠트함수 강의록:  (From Google Drive)  https://goo.gl/nNeebz (From Homepage  ) https://goo.gl/dAsJ9W\n",
        "\n"
      ]
    },
    {
      "cell_type": "markdown",
      "metadata": {
        "id": "vej8cO7dVscg"
      },
      "source": [
        "\n",
        "- 3.1 큰 수의 법칙 강의록: (From Google Drive) https://goo.gl/Pny7Hy (From Homepage) https://goo.gl/wn85bX\n",
        "\n",
        "- 3.2 이항분포와 정규분포의 관계 강의록: (From Google Drive) https://goo.gl/edxSm7 (From Homepage) https://goo.gl/cmz36p\n",
        "\n",
        "- 3.3 독립시행의 확률 강의록:  (From Google Drive) https://goo.gl/oejeu3 (From Homepage) https://goo.gl/YPqaSg \n",
        "\n",
        "- 3.4 중심극한정리 강의록: (From Google Drive) https://goo.gl/cnn3U2 (From Homepage) https://goo.gl/h5NKnG \n",
        "\n",
        "- 3.5 뷔퐁의 바늘 문제 강의록: (From Google Drive) https://goo.gl/fSu59r  (From Homepage) https://goo.gl/YSgdjZ  \n"
      ]
    },
    {
      "cell_type": "markdown",
      "metadata": {
        "id": "NHxPsRSXVuPB"
      },
      "source": [
        "\n",
        "- 4.1 도형의 자취 문제 강의록: (From Google Drive) https://goo.gl/TyWCbZ  (From Homepage) https://goo.gl/rdRe9g\n",
        "\n",
        "- 4.2 도형의 자취 문제의 변형 강의록: (From Google Drive) https://goo.gl/jk8Mx5 (From Homepage) https://goo.gl/yMjXBE\n"
      ]
    },
    {
      "cell_type": "markdown",
      "metadata": {
        "id": "1Bn25uQMVxZO"
      },
      "source": [
        "\n",
        "- 5.1 스트링 아트 강의록: (From Google Drive) https://goo.gl/DzVCKp  (From Homepage) https://goo.gl/FeCDZr\n",
        "\n",
        "- 5.2 사이클로이드 강의록: (From Google Drive) https://goo.gl/yxJSFK  (From Homepage)https://goo.gl/q9tXDv\n",
        "\n",
        "- 5.3 프렉탈 코흐 눈송이 강의록: (From Google Drive) https://goo.gl/oJGn4e  (From Homepage) https://goo.gl/NQcUZU\n"
      ]
    },
    {
      "cell_type": "markdown",
      "metadata": {
        "id": "eckd5m5WVzI0"
      },
      "source": [
        "\n",
        "- 6 Geogebra를 활용한 시험문제 제작 강의록:  (From Google Drive) https://goo.gl/uuR5DA (From Homepage) https://goo.gl/LjSFPj  \n"
      ]
    },
    {
      "cell_type": "markdown",
      "metadata": {
        "id": "Pgaw50WPV1Iw"
      },
      "source": [
        "\n",
        "- 7 타원 내부에서의 포락선 강의록: (From Google Drive) https://goo.gl/HAq93C (From Homepage) https://goo.gl/C4c9BF"
      ]
    }
  ]
}