{
  "nbformat": 4,
  "nbformat_minor": 0,
  "metadata": {
    "colab": {
      "name": "2021060501.ipynb",
      "provenance": [],
      "collapsed_sections": [],
      "include_colab_link": true
    },
    "kernelspec": {
      "name": "python3",
      "display_name": "Python 3"
    }
  },
  "cells": [
    {
      "cell_type": "markdown",
      "metadata": {
        "id": "view-in-github",
        "colab_type": "text"
      },
      "source": [
        "<a href=\"https://colab.research.google.com/github/min7014/2021/blob/main/2021060501.ipynb\" target=\"_parent\"><img src=\"https://colab.research.google.com/assets/colab-badge.svg\" alt=\"Open In Colab\"/></a>"
      ]
    },
    {
      "cell_type": "markdown",
      "metadata": {
        "id": "v9q19TnrsJxn"
      },
      "source": [
        "# 2021학년도 진해영재원 강의(2021.06.05~)\n",
        "\n"
      ]
    },
    {
      "cell_type": "markdown",
      "metadata": {
        "id": "A6f1zDuLOo5b"
      },
      "source": [
        " - 참고\n",
        "   - [AlgeoMath](https://www.algeomath.kr)\n",
        "   - [Geogebra](https://www.geogebra.org)\n",
        "   - [수학교사와 학생을 위한 Geogebra와 수학의 시각화](https://colab.research.google.com/github/min7014/2021/blob/main/2021042602.ipynb)\n"
      ]
    },
    {
      "cell_type": "markdown",
      "metadata": {
        "id": "88Rpmc097jtu"
      },
      "source": [
        "- Geogebra 기본사용법\n",
        "  - [2.1 예각에 대한 사인법칙 강의록](https://min7014.github.io/2021/2021042604.pdf#toolbar=0&view=FitH&scrollbar=0)\n"
      ]
    },
    {
      "cell_type": "markdown",
      "metadata": {
        "id": "AkS0YNqG7S79"
      },
      "source": [
        "- Geogebra Script\n",
        "    - [대푯값과 산포도(Representative Value and Degree of Scattering) Geogebra 스크립트 활용1)](https://min7014.github.io/math20210309002.html)\n",
        "    - [주사위만들기(Making dice) Geogebra 스크립트 활용2)](https://min7014.github.io/math20210302002.html)\n",
        "    - [타원 내부에서의 포락선 강의록(Lecture notes on the envelope inside the ellipse)](https://min7014.github.io/2021/2021042618.pdf#toolbar=0&view=FitH&scrollbar=0) "
      ]
    }
  ]
}