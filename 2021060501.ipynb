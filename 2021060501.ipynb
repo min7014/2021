{
  "nbformat": 4,
  "nbformat_minor": 0,
  "metadata": {
    "colab": {
      "name": "2021060501.ipynb",
      "provenance": [],
      "collapsed_sections": [],
      "include_colab_link": true
    },
    "kernelspec": {
      "name": "python3",
      "display_name": "Python 3"
    }
  },
  "cells": [
    {
      "cell_type": "markdown",
      "metadata": {
        "id": "view-in-github",
        "colab_type": "text"
      },
      "source": [
        "<a href=\"https://colab.research.google.com/github/min7014/2021/blob/main/2021060501.ipynb\" target=\"_parent\"><img src=\"https://colab.research.google.com/assets/colab-badge.svg\" alt=\"Open In Colab\"/></a>"
      ]
    },
    {
      "cell_type": "markdown",
      "metadata": {
        "id": "v9q19TnrsJxn"
      },
      "source": [
        "# 2021학년도 진해영재원 강의(2021.06.05)\n",
        "\n"
      ]
    },
    {
      "cell_type": "markdown",
      "metadata": {
        "id": "y-npG7TK5v6A"
      },
      "source": [
        "## Introduction of various Engineering Tools for Mathemathics\n",
        "  - 공학도구를 사용를 활용한 수학과제 탐구 방법에 대한 제안(Proposal for a method of exploring mathematics subject using engineering tools)\n",
        "  - 여러가지 공학도구 소개(Introduction of various engineering tools)\n",
        "    - 국내\n",
        "      - [AlgeoMath](https://www.algeomath.kr)\n",
        "      - [Cemware[MathCollabo, MathFreeOn v2, MathGrida, MathOnCloud ...]](https://www.cemware.com/)\n",
        "    - 국외\n",
        "      - [Cabri 3D](https://cabri.com/en/enterprise/cabri-3d/)\n",
        "      \n",
        "      - [Desmos](https://www.desmos.com/)\n",
        "      - [Excel](https://www.microsoft.com/ko-kr/microsoft-365/excel)\n",
        "      - [Geogebra](https://www.geogebra.org)\n",
        "      - [Gsp](https://sketchpad.keycurriculum.com)\n",
        "      - [Maple](https://www.maplesoft.com)\n",
        "      - [Mathematica](https://www.wolfram.com/)\n",
        "      - [Matlab](https://www.mathworks.com/products/matlab.html)\n",
        "      - [SageMath](https://www.sagemath.org/)\n",
        "      - ..."
      ]
    },
    {
      "cell_type": "markdown",
      "metadata": {
        "id": "D8ruXLE55w4P"
      },
      "source": [
        "## 작도에 의한 공학 도구 사용(Use of engineering tools by construction)\n",
        "  - [선분과 직선상의 한 점을 가지고 직각삼각형 작도하기(Constructing a right triangle from a line segment and a point on a straight line)](https://min7014.github.io/math20190928002.html)\n",
        "  - [선분과 직선 위의 한 점을 가지고 직각삼각형 작도하기(만든 과정에 대한 영상과 AlgeoMath 자료)](http://me2.do/5ZGXsJ4S)\n",
        "  - [선분과 직선 위의 한 점을 가지고 이등변삼각형 작도하기(만든 과정에 대한 영상과 AlgeoMath 자료)](http://me2.do/5vDr6pCN)\n",
        "  \n",
        "  "
      ]
    },
    {
      "cell_type": "markdown",
      "metadata": {
        "id": "jcGAMSlx5x53"
      },
      "source": [
        "## 프로그래밍에 의한 공학 도구 사용(Use of engineering tools by programming)\n",
        "  - 반복적인 수학적 실험(Repetitive mathematical experiment)\n",
        "  - Geogebra Script\n",
        "    - [대푯값과 산포도(Representative Value and Degree of Scattering) Geogebra 스크립트 활용1)](https://min7014.github.io/math20210309002.html)\n",
        "    - [주사위만들기(Making dice) Geogebra 스크립트 활용2)](https://min7014.github.io/math20210302002.html)\n",
        "    - [타원 내부에서의 포락선 강의록(Lecture notes on the envelope inside the ellipse)](https://min7014.github.io/2021/2021042618.pdf#toolbar=0&view=FitH&scrollbar=0) \n",
        "  - AlgeoMath Block Coding  \n",
        "    - [Sierpinski Triangle](http://me2.do/FirUt3d2)\n",
        "    - [Sierpinski triangle using the chaos game](http://me2.do/FirUt3d2)\n",
        "  - Presentaion by AlgeoMath\n",
        "    - 체크박스로 모든 과정이 나타나는 자료만들기\n",
        "    - 체크박스자동화 2019.11.23(기본양식 + 사용설명) : http://me2.do/x7zFc5v0\n",
        "    - 체크박스자동화 2019.11.23(기본양식) : http://me2.do/5X3Siuoj\n"
      ]
    },
    {
      "cell_type": "markdown",
      "metadata": {
        "id": "Drasv3q58j5H"
      },
      "source": [
        "## Additional Resources\n",
        "- [Library of Teacher Min Eun Gi's Mathematical Resource](https://min7014.github.io/)\n",
        "- [Algeomath by Min Eun Gi](http://me2.do/5qso0BiT)\n",
        "- [Geogebra by Min Eun Gi](https://www.geogebra.org/u/min7014)\n",
        "- [세 점에서 거리의 합이 최소인 점[경사하강법](Point at which the sum of the distances from the three points is minimum[gradient descent])](https://min7014.github.io/math20210429001.html) [작도](https://www.geogebra.org/m/cvesbeau) [Entry](http://naver.me/GaMn1Ibp)\n",
        "- [Geogebra와 수학의 시각화](https://colab.research.google.com/github/min7014/2021/blob/main/2021042602.ipynb#scrollTo=Pgaw50WPV1Iw) 책에 사용되었으면 저 링크를 통해 들어가시면 강의록이 각각 공개되어 있습니다. 또한, 추가되는 강의록 및 실습자료를 [수학자료실 강의실](https://min7014.github.io/math20191130002.html) 에 넣어 놓았습니다."
      ]
    }
  ]
}