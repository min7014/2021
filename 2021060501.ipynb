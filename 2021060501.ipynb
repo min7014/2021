{
  "nbformat": 4,
  "nbformat_minor": 0,
  "metadata": {
    "colab": {
      "name": "2021060501.ipynb",
      "provenance": [],
      "collapsed_sections": [],
      "include_colab_link": true
    },
    "kernelspec": {
      "name": "python3",
      "display_name": "Python 3"
    }
  },
  "cells": [
    {
      "cell_type": "markdown",
      "metadata": {
        "id": "view-in-github",
        "colab_type": "text"
      },
      "source": [
        "<a href=\"https://colab.research.google.com/github/min7014/2021/blob/main/2021060501.ipynb\" target=\"_parent\"><img src=\"https://colab.research.google.com/assets/colab-badge.svg\" alt=\"Open In Colab\"/></a>"
      ]
    },
    {
      "cell_type": "markdown",
      "metadata": {
        "id": "v9q19TnrsJxn"
      },
      "source": [
        "# 2021학년도 진해영재원 강의(2021.06.05~)\n",
        "\n"
      ]
    },
    {
      "cell_type": "markdown",
      "metadata": {
        "id": "A6f1zDuLOo5b"
      },
      "source": [
        " - [AlgeoMath](https://www.algeomath.kr)\n",
        " - [Geogebra](https://www.geogebra.org)\n",
        " - [수학교사와 학생을 위한 Geogebra와 수학의 시각화](https://colab.research.google.com/github/min7014/2021/blob/main/2021042602.ipynb)\n"
      ]
    }
  ]
}