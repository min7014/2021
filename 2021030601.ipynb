{
  "nbformat": 4,
  "nbformat_minor": 0,
  "metadata": {
    "colab": {
      "name": "2021030601.ipynb",
      "provenance": [],
      "collapsed_sections": [],
      "include_colab_link": true
    },
    "kernelspec": {
      "name": "python3",
      "display_name": "Python 3"
    }
  },
  "cells": [
    {
      "cell_type": "markdown",
      "metadata": {
        "id": "view-in-github",
        "colab_type": "text"
      },
      "source": [
        "<a href=\"https://colab.research.google.com/github/min7014/2021/blob/main/2021030601.ipynb\" target=\"_parent\"><img src=\"https://colab.research.google.com/assets/colab-badge.svg\" alt=\"Open In Colab\"/></a>"
      ]
    },
    {
      "cell_type": "markdown",
      "metadata": {
        "id": "bITmaOJ0y_qQ"
      },
      "source": [
        ""
      ]
    },
    {
      "cell_type": "markdown",
      "metadata": {
        "id": "ep2aJq2wPany"
      },
      "source": [
        "[The Maintenance Department handles that sort of thing.](https://en.dict.naver.com/#/search?query=maintenance%20department&range=example)"
      ]
    },
    {
      "cell_type": "markdown",
      "metadata": {
        "id": "fz_4CaL5PJrQ"
      },
      "source": [
        "There are several openings in the sales department."
      ]
    },
    {
      "cell_type": "markdown",
      "metadata": {
        "id": "rsI_ZuSyO4LO"
      },
      "source": [
        "How should an employee contact the accounting office if there is a question about the new policy?"
      ]
    },
    {
      "cell_type": "markdown",
      "metadata": {
        "id": "d0z8vq-92EuS"
      },
      "source": [
        "I've worked in the Human Resources Department for the three years."
      ]
    },
    {
      "cell_type": "markdown",
      "metadata": {
        "id": "b549Waqky_24"
      },
      "source": [
        "Who left the briefcase in the lobby?"
      ]
    },
    {
      "cell_type": "markdown",
      "metadata": {
        "id": "NNJJZc9mzAAB"
      },
      "source": [
        "The people are examining papers."
      ]
    },
    {
      "cell_type": "markdown",
      "metadata": {
        "id": "kqvUnBKjzADM"
      },
      "source": [
        "The people are gathered around a table."
      ]
    },
    {
      "cell_type": "markdown",
      "metadata": {
        "id": "cZ4FHR_1zAGZ"
      },
      "source": [
        "Some produce is on display."
      ]
    },
    {
      "cell_type": "markdown",
      "metadata": {
        "id": "1nbuYKjlzAJw"
      },
      "source": [
        "People are strolling along a street."
      ]
    },
    {
      "cell_type": "markdown",
      "metadata": {
        "id": "HBcR1LekzASr"
      },
      "source": [
        "The street is packed with people."
      ]
    },
    {
      "cell_type": "markdown",
      "metadata": {
        "id": "1IA5KIG1ymgu"
      },
      "source": [
        "Signs are being hung on posts."
      ]
    },
    {
      "cell_type": "markdown",
      "metadata": {
        "id": "KyB_wOX1xg8K"
      },
      "source": [
        "A man is wearing a vest."
      ]
    },
    {
      "cell_type": "markdown",
      "metadata": {
        "id": "OGLIJ5kNv3Jz"
      },
      "source": [
        "He is chopping vegetables."
      ]
    },
    {
      "cell_type": "markdown",
      "metadata": {
        "id": "p-myEx7rqcKH"
      },
      "source": [
        "\r\n",
        "-ing를 쓰는 상태동사|의미 \r\n",
        ":---|:---|\r\n",
        "hanging| 이미 걸려 있는 상태\r\n",
        "carrying| 이미 멘 상태\r\n",
        "lying| 이미 놓인 상태\r\n",
        "holding| 이미 잡은 상태\r\n",
        "standing| 이미 선 상태\r\n",
        "sitting| 이미 앉은 상태\r\n",
        "wearing| 이미 입은 상태\r\n",
        "\r\n",
        "\r\n",
        "\r\n",
        "\r\n"
      ]
    },
    {
      "cell_type": "markdown",
      "metadata": {
        "id": "hTUwACgWnbdi"
      },
      "source": [
        "\r\n",
        "동작동사             |의미         | 상태동사        | 의미\r\n",
        ":---                 |:---         |:---             |:---\r\n",
        "putting on/trying on | 입다        | wearing         | 입었다\r\n",
        "boarding             | 탑승하다    | riding          | 탑승했다\r\n",
        "getting up           | 일어서다    | standing        | 일어섰다\r\n",
        "taking one's seat    | 자리에 앉다 | sitting         | 앉았다\r\n",
        "picking up           | 집다        | holding/carring | 들었다\r\n",
        "\r\n",
        "\r\n",
        "\r\n",
        "\r\n",
        "\r\n"
      ]
    }
  ]
}