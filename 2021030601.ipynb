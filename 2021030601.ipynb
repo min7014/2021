{
  "nbformat": 4,
  "nbformat_minor": 0,
  "metadata": {
    "colab": {
      "name": "2021030601.ipynb",
      "provenance": [],
      "collapsed_sections": [],
      "include_colab_link": true
    },
    "kernelspec": {
      "name": "python3",
      "display_name": "Python 3"
    }
  },
  "cells": [
    {
      "cell_type": "markdown",
      "metadata": {
        "id": "view-in-github",
        "colab_type": "text"
      },
      "source": [
        "<a href=\"https://colab.research.google.com/github/min7014/2021/blob/main/2021030601.ipynb\" target=\"_parent\"><img src=\"https://colab.research.google.com/assets/colab-badge.svg\" alt=\"Open In Colab\"/></a>"
      ]
    },
    {
      "cell_type": "markdown",
      "metadata": {
        "id": "smOxHfUPwQ1k"
      },
      "source": [
        "  - [The novel fails to achieve narrative continuity.](https://en.dict.naver.com/#/search?query=narrative&range=example)"
      ]
    },
    {
      "cell_type": "markdown",
      "metadata": {
        "id": "z0EN_fbwv9wF"
      },
      "source": [
        "- [They produced software to use on Altair.](https://en.dict.naver.com/#/search?query=altair&range=example)"
      ]
    },
    {
      "cell_type": "markdown",
      "metadata": {
        "id": "w65510ZPvjiV"
      },
      "source": [
        "- [DNA barcoding offers a cheap and accurate way of telling the difference between species, based on snippets of DNA code.](https://en.dict.naver.com/#/search?query=code%20snippets&range=example)"
      ]
    },
    {
      "cell_type": "markdown",
      "metadata": {
        "id": "Zb6fCWa4vIaH"
      },
      "source": [
        "- [We have been inundated with offers of help.](https://en.dict.naver.com/#/search?query=offers&range=example)"
      ]
    },
    {
      "cell_type": "markdown",
      "metadata": {
        "id": "hnZxkk_uu3Sw"
      },
      "source": [
        "- [One problem with devices today is that they have such a lot of functionality that people aren't using. ](https://en.dict.naver.com/#/search?query=functionality%20that&range=example)"
      ]
    },
    {
      "cell_type": "markdown",
      "metadata": {
        "id": "pNXlMN4PuivO"
      },
      "source": [
        "- [The school believes in interactive teaching methods.](https://en.dict.naver.com/#/search?query=interactive&range=example)"
      ]
    },
    {
      "cell_type": "markdown",
      "metadata": {
        "id": "Q_7qkidLuHks"
      },
      "source": [
        "- [Restore all back-ups and all executable program.](https://en.dict.naver.com/#/search?query=executable&range=example)"
      ]
    },
    {
      "cell_type": "markdown",
      "metadata": {
        "id": "XI76PUVS-G8E"
      },
      "source": [
        "- [If you're not ready to take the plunge, tell her now.](https://en.dict.naver.com/#/search?query=to%20take%20the%20plunge&range=example)"
      ]
    },
    {
      "cell_type": "markdown",
      "metadata": {
        "id": "h6COBELf95Y-"
      },
      "source": [
        "- [His lack of experience was balanced by a willingness to learn.](https://en.dict.naver.com/#/search?query=a%20willingness&range=example)"
      ]
    },
    {
      "cell_type": "markdown",
      "metadata": {
        "id": "zEC3xhzY9iiS"
      },
      "source": [
        "- [It was considered by the advisory committee on novel foods and processes at its meeting on 23 September 1989.](https://en.dict.naver.com/#/search?query=was%20considered%20novel&range=example)"
      ]
    },
    {
      "cell_type": "markdown",
      "metadata": {
        "id": "CpH8WTOb80UZ"
      },
      "source": [
        "  - [He surpasses me in knowledge.](https://en.dict.naver.com/#/search?query=surpasses&range=example)"
      ]
    },
    {
      "cell_type": "markdown",
      "metadata": {
        "id": "psFMMoiW8EPg"
      },
      "source": [
        "- [Application of a RFID-Based Monitoring System for the Concrete Pour Process ](https://en.dict.naver.com/#/search?query=the%20concrete%20process&range=example)"
      ]
    },
    {
      "cell_type": "markdown",
      "metadata": {
        "id": "WBqvOHhs7rMb"
      },
      "source": [
        "- [If it weren't for the cold weather, I would dive right in.](https://en.dict.naver.com/#/search?query=dive%20right&range=example)"
      ]
    },
    {
      "cell_type": "markdown",
      "metadata": {
        "id": "SiRc_PJq7fX7"
      },
      "source": [
        "- [I am determined to accomplish it at all costs.](https://en.dict.naver.com/#/search?query=accomplish%20it&range=example)"
      ]
    },
    {
      "cell_type": "markdown",
      "metadata": {
        "id": "L7OznHyr7OMd"
      },
      "source": [
        "- [His inferring words leave something uneasy in the air.](https://en.dict.naver.com/#/search?query=inferring&range=example)"
      ]
    },
    {
      "cell_type": "markdown",
      "metadata": {
        "id": "2ofYdh-V6yiC"
      },
      "source": [
        "- [Slaveholding has occurred all throughout history spanning an uncountable number of cultures. ](https://en.dict.naver.com/#/search?query=spanning%20an&range=example)"
      ]
    },
    {
      "cell_type": "markdown",
      "metadata": {
        "id": "voY_sxmN6ikU"
      },
      "source": [
        "- [And probably the one point when we're doing this very high level overview that's of interest.](https://en.dict.naver.com/#/search?query=high%20level%20overview&range=example)"
      ]
    },
    {
      "cell_type": "markdown",
      "metadata": {
        "id": "3sRq6Jff6PIF"
      },
      "source": [
        "- [With Mercury travelling through the area of your skies that rules psychic powers and hidden feelings, you have extra insight into others’ motives. ](https://en.dict.naver.com/#/search?query=hidden%20insight&range=example)"
      ]
    },
    {
      "cell_type": "markdown",
      "metadata": {
        "id": "oDddIuGM5--C"
      },
      "source": [
        "- [It hinges on the entire range of data, observations, reconstructions and models, spanning many thousands of scientific papers.](https://en.dict.naver.com/#/search?query=hinges%20on%20data&range=example)"
      ]
    },
    {
      "cell_type": "markdown",
      "metadata": {
        "id": "VxZEpWQ45uE_"
      },
      "source": [
        "- [Do you know what the key component is in acid rain?](https://en.dict.naver.com/#/search?query=key%20component&range=example)"
      ]
    },
    {
      "cell_type": "markdown",
      "metadata": {
        "id": "CFcmnCbm5d9_"
      },
      "source": [
        "- [It warned trade is plummeting at an annualised rate of 20 per cent, a rate of decline unseen in four decades of data.](https://en.dict.naver.com/#/search?query=unseen%20data&range=example)"
      ]
    },
    {
      "cell_type": "markdown",
      "metadata": {
        "id": "dbiYAnTw5KGj"
      },
      "source": [
        "- [A Predictive Model for the Service Life of Building Based on its' Performance](https://en.dict.naver.com/#/search?query=predictive%20model&range=example)"
      ]
    },
    {
      "cell_type": "markdown",
      "metadata": {
        "id": "24sJgLj045im"
      },
      "source": [
        "- [Fiscal fine tuning is a bad idea.](https://en.dict.naver.com/#/search?query=fine%20tuning&range=example)"
      ]
    },
    {
      "cell_type": "markdown",
      "metadata": {
        "id": "_96GhtlF4TD6"
      },
      "source": [
        "- [Please inform us of any changes of address. ](https://en.dict.naver.com/#/search?query=inform&range=example)"
      ]
    },
    {
      "cell_type": "markdown",
      "metadata": {
        "id": "2OP9LYzt4HSY"
      },
      "source": [
        "- [This paragraph refers to the events of last year.](https://en.dict.naver.com/#/search?query=refers&range=example)"
      ]
    },
    {
      "cell_type": "markdown",
      "metadata": {
        "id": "BIvMMmK435-y"
      },
      "source": [
        "- [Curiosity will drill into rocks and analyze soil samples.](https://en.dict.naver.com/#/search?query=drill%20into&range=example)"
      ]
    },
    {
      "cell_type": "markdown",
      "metadata": {
        "id": "NYXnr61O3tap"
      },
      "source": [
        "- [If he is guilty then, by inference, so is his wife.](https://en.dict.naver.com/#/search?query=inference&range=example)"
      ]
    },
    {
      "cell_type": "markdown",
      "metadata": {
        "id": "4udpGk6s3VxW"
      },
      "source": [
        "- [He took the plunge into the deep end.](https://en.dict.naver.com/#/search?query=plunge&range=example)"
      ]
    },
    {
      "cell_type": "markdown",
      "metadata": {
        "id": "Co8ZI7GNxxNZ"
      },
      "source": [
        "- [She has gotten a temporary job.](https://en.dict.naver.com/#/search?query=gotten&range=example)"
      ]
    },
    {
      "cell_type": "markdown",
      "metadata": {
        "id": "AD4MbG0ExmTG"
      },
      "source": [
        "- [We use production tooling to manufacture the first airplane.](https://en.dict.naver.com/#/search?query=tooling&range=example)"
      ]
    },
    {
      "cell_type": "markdown",
      "metadata": {
        "id": "mV_k4B6FxPvc"
      },
      "source": [
        "- [To virtually every question on the leak case, he responded by pivoting to the importance of focusing instead on his agenda.](https://en.dict.naver.com/#/search?query=pivoting%20to&range=example)"
      ]
    },
    {
      "cell_type": "markdown",
      "metadata": {
        "id": "DprwSEDMw9at"
      },
      "source": [
        "- [Its guests can enjoy its patisserie's best-selling cake and a bottle of premium champagne as room service offerings. It also presents a French perfumer made fragrance for free.](https://en.dict.naver.com/#/search?query=offerings&range=example)"
      ]
    },
    {
      "cell_type": "markdown",
      "metadata": {
        "id": "dZ1Z4FYtwpgH"
      },
      "source": [
        "- [Early detection of cancers is vitally important.](https://en.dict.naver.com/#/search?query=detection&range=example)"
      ]
    },
    {
      "cell_type": "markdown",
      "metadata": {
        "id": "2R41zl4jwUL4"
      },
      "source": [
        "  - [The business has 34 retail outlets in this state alone.](https://en.dict.naver.com/#/search?query=retail&range=example)"
      ]
    },
    {
      "cell_type": "markdown",
      "metadata": {
        "id": "fz1_TDxNwC3U"
      },
      "source": [
        "- [Proliferative diabetic retinopathy (PDR) is the most severe type of diabetic retinopathy.](https://en.dict.naver.com/#/search?query=diabetic%20retinopathy&range=example)"
      ]
    },
    {
      "cell_type": "markdown",
      "metadata": {
        "id": "r0HDqmuSvrXW"
      },
      "source": [
        "- [banks providing the fraud detection system for the customers](https://en.dict.naver.com/#/search?query=fraud%20detection&range=example)"
      ]
    },
    {
      "cell_type": "markdown",
      "metadata": {
        "id": "OTNbN_xZvdU-"
      },
      "source": [
        "- [It is very wide ranging in its effect.](https://en.dict.naver.com/#/search?query=wide-ranging&range=example)"
      ]
    },
    {
      "cell_type": "markdown",
      "metadata": {
        "id": "aTvgEdNmvIoc"
      },
      "source": [
        "  - [But if you look over here, the prices went down for May to June according to adjusting it for the season.](https://en.dict.naver.com/#/search?query=to%20adjusting&range=example)"
      ]
    },
    {
      "cell_type": "markdown",
      "metadata": {
        "id": "mvQyEFFEuxH0"
      },
      "source": [
        "- [Tagging can provide a context, too, for objects, and a means of creating associations between objects.](https://en.dict.naver.com/#/search?query=tagging%20objects&range=example)"
      ]
    },
    {
      "cell_type": "markdown",
      "metadata": {
        "id": "ZZolWDuUt7yt"
      },
      "source": [
        "- [She received the news with apparent unconcern. ](https://en.dict.naver.com/#/search?query=apparent&range=example)"
      ]
    },
    {
      "cell_type": "markdown",
      "metadata": {
        "id": "sMA_jXOrtWPp"
      },
      "source": [
        "- [Voter registration numbers reflect the shifting landscape. ](https://en.dict.naver.com/#/search?query=shifting%20landscape&range=example)"
      ]
    },
    {
      "cell_type": "markdown",
      "metadata": {
        "id": "F5WURBl_s31a"
      },
      "source": [
        "- [His words were indistinguishable.](https://en.dict.naver.com/#/search?query=indistinguishable&range=example)"
      ]
    },
    {
      "cell_type": "markdown",
      "metadata": {
        "id": "CBwIz8ZKslzH"
      },
      "source": [
        "- [Lovers derive their pleasure from their misfortunes.](https://en.dict.naver.com/#/search?query=derive&range=example)"
      ]
    },
    {
      "cell_type": "markdown",
      "metadata": {
        "id": "ND5OdXId0W6r"
      },
      "source": [
        "- I'm trying to reach Richard.\r\n",
        "- [Eventually the caller said, ‘I beg your pardon. I’m trying to reach Miss Douglas.](https://en.dict.naver.com/#/search?query=I'm%20trying%20to%20reach%20Richard.&range=example)"
      ]
    },
    {
      "cell_type": "markdown",
      "metadata": {
        "id": "fmFKD0nlfsWh"
      },
      "source": [
        "- Who reserved the conference room for this morning?\r\n",
        "- [I’ve reserved a room in the name of Jones.](https://en.dict.naver.com/#/search?query=reserved&range=example)"
      ]
    },
    {
      "cell_type": "markdown",
      "metadata": {
        "id": "tEa5PhG2bLlS"
      },
      "source": [
        "- Who is in charge of ordering office supplies?\r\n",
        "- [I was put in charge of the office.](https://en.dict.naver.com/#/search?query=in%20charge%20of&range=example)\r\n",
        "- [I’ll take care of that side of things.](https://en.dict.naver.com/#/search?query=take%20care%20of&range=example)\r\n",
        "- [Even where parents no longer live together, they each continue to be responsible for their children.](https://en.dict.naver.com/#/search?query=be%20responsible%20for&range=example)\r\n"
      ]
    },
    {
      "cell_type": "markdown",
      "metadata": {
        "id": "S3Sfj8ylaiek"
      },
      "source": [
        "- [She fiddled the books while working as an accountant.](https://en.dict.naver.com/#/search?query=accountant&range=example)"
      ]
    },
    {
      "cell_type": "markdown",
      "metadata": {
        "id": "PLcvPleNaT3W"
      },
      "source": [
        "- [I’m not sales clerk material.](https://en.dict.naver.com/#/search?query=sales%20clerk&range=example)"
      ]
    },
    {
      "cell_type": "markdown",
      "metadata": {
        "id": "OuHKKYCsZwNc"
      },
      "source": [
        "- [The job had to be delegated to an assistant.](https://en.dict.naver.com/#/search?query=assistant&range=example)\r\n",
        "- [Some managers find it difficult to delegate.](https://en.dict.naver.com/#/search?query=delegate&range=example)"
      ]
    },
    {
      "cell_type": "markdown",
      "metadata": {
        "id": "Zse9ZqymYoHJ"
      },
      "source": [
        "- [The supervisor is always very critical.](https://en.dict.naver.com/#/search?query=supervisor&range=example)"
      ]
    },
    {
      "cell_type": "markdown",
      "metadata": {
        "id": "nGP4TBv9YgRP"
      },
      "source": [
        "- [The director has given her assent to the proposals.](https://en.dict.naver.com/#/search?query=director&range=example)\r\n",
        "\r\n"
      ]
    },
    {
      "cell_type": "markdown",
      "metadata": {
        "id": "Yta1707iYOmF"
      },
      "source": [
        "- [He got the nod from the team manager.](https://en.dict.naver.com/#/search?query=manager&range=example)"
      ]
    },
    {
      "cell_type": "markdown",
      "metadata": {
        "id": "bdwW3S6NYIyw"
      },
      "source": [
        "- [A recent study found that 84 percent of customers expect a response to e-mail queries sent to a company’s customer service department within 24 hours.](https://en.dict.naver.com/#/search?query=customer%20service%20department&range=example)"
      ]
    },
    {
      "cell_type": "markdown",
      "metadata": {
        "id": "4NKWB3obXUL8"
      },
      "source": [
        " - [Do you have the number for the shipping department?](https://en.dict.naver.com/#/search?query=shipping%20department&range=example)"
      ]
    },
    {
      "cell_type": "markdown",
      "metadata": {
        "id": "ep2aJq2wPany"
      },
      "source": [
        "- [Who’s in charge of the maintenance department these days?](https://en.dict.naver.com/#/search?range=example&query=maintenance%20department)"
      ]
    },
    {
      "cell_type": "markdown",
      "metadata": {
        "id": "fz_4CaL5PJrQ"
      },
      "source": [
        "- [Ten employees are being transferred from the sales department.](https://en.dict.naver.com/#/search?query=sales%20department&range=example)"
      ]
    },
    {
      "cell_type": "markdown",
      "metadata": {
        "id": "rsI_ZuSyO4LO"
      },
      "source": [
        "- [How should an employee contact the accounting office if there is a question about the new policy?](https://en.dict.naver.com/#/search?query=accounting%20office&range=example)"
      ]
    },
    {
      "cell_type": "markdown",
      "metadata": {
        "id": "d0z8vq-92EuS"
      },
      "source": [
        "- [Contact the human resources department to get your employee-parking permit.](https://en.dict.naver.com/#/search?query=Human%20Resources%20Department&range=example)"
      ]
    },
    {
      "cell_type": "markdown",
      "metadata": {
        "id": "b549Waqky_24"
      },
      "source": [
        "- Who left the briefcase in the lobby?\r\n",
        "- [He rifled through his briefcase and extracted a file.](https://en.dict.naver.com/#/search?query=briefcase&range=example)\r\n",
        "- [ She rifled through her clothes for something suitable to wear. ](https://en.dict.naver.com/#/entry/enko/f15436b62e6f4a70ae86659dac9e13ef)"
      ]
    },
    {
      "cell_type": "markdown",
      "metadata": {
        "id": "NNJJZc9mzAAB"
      },
      "source": [
        "- The people are examining papers."
      ]
    },
    {
      "cell_type": "markdown",
      "metadata": {
        "id": "kqvUnBKjzADM"
      },
      "source": [
        "- The people are gathered around a table."
      ]
    },
    {
      "cell_type": "markdown",
      "metadata": {
        "id": "cZ4FHR_1zAGZ"
      },
      "source": [
        "- Some produce is on display.\r\n",
        "- [We guarantee the freshness of all our produce.](https://en.dict.naver.com/#/search?query=produce&range=example)"
      ]
    },
    {
      "cell_type": "markdown",
      "metadata": {
        "id": "1nbuYKjlzAJw"
      },
      "source": [
        "- People are strolling along a street.\r\n",
        "- [People were strolling along the beach.](https://en.dict.naver.com/#/search?query=strolling&range=example)"
      ]
    },
    {
      "cell_type": "markdown",
      "metadata": {
        "id": "HBcR1LekzASr"
      },
      "source": [
        "- The street is packed with people."
      ]
    },
    {
      "cell_type": "markdown",
      "metadata": {
        "id": "1IA5KIG1ymgu"
      },
      "source": [
        "- Signs are being hung on posts.\r\n",
        "- [A transverse bar joins the two posts.](https://en.dict.naver.com/#/search?range=example&query=posts)"
      ]
    },
    {
      "cell_type": "markdown",
      "metadata": {
        "id": "KyB_wOX1xg8K"
      },
      "source": [
        "- A man is wearing a vest.\r\n",
        "- [The uniform will come with a bullet-proof helmet and vest.](https://en.dict.naver.com/#/search?query=vest&range=example)\r\n",
        "\r\n"
      ]
    },
    {
      "cell_type": "markdown",
      "metadata": {
        "id": "OGLIJ5kNv3Jz"
      },
      "source": [
        "- He is chopping vegetables.\r\n",
        "- [He was chopping logs for firewood.](https://en.dict.naver.com/#/search?query=chopping&range=example)\r\n",
        "\r\n"
      ]
    },
    {
      "cell_type": "markdown",
      "metadata": {
        "id": "0XR0cYm1xdnO"
      },
      "source": [
        "- Food is banned in the library.\r\n",
        "- [Corporal punishment was banned by statute in 1987.](https://en.dict.naver.com/#/search?query=banned&range=example)"
      ]
    },
    {
      "cell_type": "markdown",
      "metadata": {
        "id": "ekZySql03BaB"
      },
      "source": [
        "- The meeting will last about an hour.\r\n",
        "- [Food will last longer if kept in an airtight container.](https://en.dict.naver.com/#/search?query=will%20last&range=example)"
      ]
    },
    {
      "cell_type": "markdown",
      "metadata": {
        "id": "P24mlhRF1fyx"
      },
      "source": [
        "- Applicants will submit theri resume by e-mail.\r\n",
        "- [My resume is attached in MS Word for your review. ](https://en.dict.naver.com/#/search?query=resume&range=example)"
      ]
    },
    {
      "cell_type": "markdown",
      "metadata": {
        "id": "x5N3eY0b0cXd"
      },
      "source": [
        "- [I'll just close my eyes and rest a while.](https://en.dict.naver.com/#/search?query=rest%20a%20while&range=example)"
      ]
    },
    {
      "cell_type": "markdown",
      "metadata": {
        "id": "wGQ-uzY6wqvb"
      },
      "source": [
        "- [The bills are piling up.](https://en.dict.naver.com/#/search?query=piling&range=example)"
      ]
    },
    {
      "cell_type": "markdown",
      "metadata": {
        "id": "rPPPRRl3vUxc"
      },
      "source": [
        "- Factory managers inspect production every day.\r\n",
        "- [Make sure you inspect the goods before signing for them.](https://en.dict.naver.com/#/search?query=inspect&range=example)"
      ]
    },
    {
      "cell_type": "markdown",
      "metadata": {
        "id": "O0GU45_iu7bw"
      },
      "source": [
        "- [We live in the commuter belt.](https://en.dict.naver.com/#/search?query=commuter&range=example)"
      ]
    },
    {
      "cell_type": "markdown",
      "metadata": {
        "id": "-8FsiRgUuYZl"
      },
      "source": [
        "- [He ate the apple, stalk and all.](https://en.dict.naver.com/#/search?query=ate&range=example)"
      ]
    },
    {
      "cell_type": "markdown",
      "metadata": {
        "id": "OrzwIdaHtm0j"
      },
      "source": [
        "  - [Those grease stains won’t wash off.](https://en.dict.naver.com/#/search?query=won't&range=example)"
      ]
    },
    {
      "cell_type": "markdown",
      "metadata": {
        "id": "zjqGjQNEshO1"
      },
      "source": [
        "- [The meadows lead down to the river. ](https://en.dict.naver.com/#/search?query=lead&range=example)"
      ]
    },
    {
      "cell_type": "markdown",
      "metadata": {
        "id": "0IVO-94OPS7d"
      },
      "source": [
        "- They are hanging items on a rack.\r\n",
        "- [He lifted the suitcase down from the rack](https://en.dict.naver.com/#/search?query=rack&range=example)"
      ]
    },
    {
      "cell_type": "markdown",
      "metadata": {
        "id": "p-myEx7rqcKH"
      },
      "source": [
        "\r\n",
        "-ing를 쓰는 상태동사|의미 \r\n",
        ":---|:---|\r\n",
        "hanging| 이미 걸려 있는 상태\r\n",
        "carrying| 이미 멘 상태\r\n",
        "lying| 이미 놓인 상태\r\n",
        "holding| 이미 잡은 상태\r\n",
        "standing| 이미 선 상태\r\n",
        "sitting| 이미 앉은 상태\r\n",
        "wearing| 이미 입은 상태\r\n",
        "\r\n",
        "\r\n",
        "\r\n",
        "\r\n"
      ]
    },
    {
      "cell_type": "markdown",
      "metadata": {
        "id": "hTUwACgWnbdi"
      },
      "source": [
        "\r\n",
        "동작동사             |의미         | 상태동사        | 의미\r\n",
        ":---                 |:---         |:---             |:---\r\n",
        "putting on/trying on | 입다        | wearing         | 입었다\r\n",
        "boarding             | 탑승하다    | riding          | 탑승했다\r\n",
        "getting up           | 일어서다    | standing        | 일어섰다\r\n",
        "taking one's seat    | 자리에 앉다 | sitting         | 앉았다\r\n",
        "picking up           | 집다        | holding/carring | 들었다\r\n",
        "\r\n",
        "\r\n",
        "\r\n",
        "\r\n",
        "\r\n"
      ]
    }
  ]
}