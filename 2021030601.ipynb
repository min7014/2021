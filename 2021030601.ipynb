{
  "nbformat": 4,
  "nbformat_minor": 0,
  "metadata": {
    "colab": {
      "name": "2021030601.ipynb",
      "provenance": [],
      "collapsed_sections": [],
      "include_colab_link": true
    },
    "kernelspec": {
      "name": "python3",
      "display_name": "Python 3"
    }
  },
  "cells": [
    {
      "cell_type": "markdown",
      "metadata": {
        "id": "view-in-github",
        "colab_type": "text"
      },
      "source": [
        "<a href=\"https://colab.research.google.com/github/min7014/2021/blob/main/2021030601.ipynb\" target=\"_parent\"><img src=\"https://colab.research.google.com/assets/colab-badge.svg\" alt=\"Open In Colab\"/></a>"
      ]
    },
    {
      "cell_type": "markdown",
      "metadata": {
        "id": "ND5OdXId0W6r"
      },
      "source": [
        "- I'm trying to reach Richard.\r\n",
        "- [Eventually the caller said, ‘I beg your pardon. I’m trying to reach Miss Douglas.](https://en.dict.naver.com/#/search?query=I'm%20trying%20to%20reach%20Richard.&range=example)"
      ]
    },
    {
      "cell_type": "markdown",
      "metadata": {
        "id": "fmFKD0nlfsWh"
      },
      "source": [
        "- Who reserved the conference room for this morning?\r\n",
        "- [I’ve reserved a room in the name of Jones.](https://en.dict.naver.com/#/search?query=reserved&range=example)"
      ]
    },
    {
      "cell_type": "markdown",
      "metadata": {
        "id": "tEa5PhG2bLlS"
      },
      "source": [
        "- Who is in charge of ordering office supplies?\r\n",
        "- [I was put in charge of the office.](https://en.dict.naver.com/#/search?query=in%20charge%20of&range=example)\r\n",
        "- [I’ll take care of that side of things.](https://en.dict.naver.com/#/search?query=take%20care%20of&range=example)\r\n",
        "- [Even where parents no longer live together, they each continue to be responsible for their children.](https://en.dict.naver.com/#/search?query=be%20responsible%20for&range=example)\r\n"
      ]
    },
    {
      "cell_type": "markdown",
      "metadata": {
        "id": "S3Sfj8ylaiek"
      },
      "source": [
        "- [She fiddled the books while working as an accountant.](https://en.dict.naver.com/#/search?query=accountant&range=example)"
      ]
    },
    {
      "cell_type": "markdown",
      "metadata": {
        "id": "PLcvPleNaT3W"
      },
      "source": [
        "- [I’m not sales clerk material.](https://en.dict.naver.com/#/search?query=sales%20clerk&range=example)"
      ]
    },
    {
      "cell_type": "markdown",
      "metadata": {
        "id": "OuHKKYCsZwNc"
      },
      "source": [
        "- [The job had to be delegated to an assistant.](https://en.dict.naver.com/#/search?query=assistant&range=example)\r\n",
        "- [Some managers find it difficult to delegate.](https://en.dict.naver.com/#/search?query=delegate&range=example)"
      ]
    },
    {
      "cell_type": "markdown",
      "metadata": {
        "id": "Zse9ZqymYoHJ"
      },
      "source": [
        "- [The supervisor is always very critical.](https://en.dict.naver.com/#/search?query=supervisor&range=example)"
      ]
    },
    {
      "cell_type": "markdown",
      "metadata": {
        "id": "nGP4TBv9YgRP"
      },
      "source": [
        "- [The director has given her assent to the proposals.](https://en.dict.naver.com/#/search?query=director&range=example)\r\n",
        "\r\n"
      ]
    },
    {
      "cell_type": "markdown",
      "metadata": {
        "id": "Yta1707iYOmF"
      },
      "source": [
        "- [He got the nod from the team manager.](https://en.dict.naver.com/#/search?query=manager&range=example)"
      ]
    },
    {
      "cell_type": "markdown",
      "metadata": {
        "id": "bdwW3S6NYIyw"
      },
      "source": [
        "- [A recent study found that 84 percent of customers expect a response to e-mail queries sent to a company’s customer service department within 24 hours.](https://en.dict.naver.com/#/search?query=customer%20service%20department&range=example)"
      ]
    },
    {
      "cell_type": "markdown",
      "metadata": {
        "id": "4NKWB3obXUL8"
      },
      "source": [
        " - [Do you have the number for the shipping department?](https://en.dict.naver.com/#/search?query=shipping%20department&range=example)"
      ]
    },
    {
      "cell_type": "markdown",
      "metadata": {
        "id": "ep2aJq2wPany"
      },
      "source": [
        "- [Who’s in charge of the maintenance department these days?](https://en.dict.naver.com/#/search?range=example&query=maintenance%20department)"
      ]
    },
    {
      "cell_type": "markdown",
      "metadata": {
        "id": "fz_4CaL5PJrQ"
      },
      "source": [
        "- [Ten employees are being transferred from the sales department.](https://en.dict.naver.com/#/search?query=sales%20department&range=example)"
      ]
    },
    {
      "cell_type": "markdown",
      "metadata": {
        "id": "rsI_ZuSyO4LO"
      },
      "source": [
        "- [How should an employee contact the accounting office if there is a question about the new policy?](https://en.dict.naver.com/#/search?query=accounting%20office&range=example)"
      ]
    },
    {
      "cell_type": "markdown",
      "metadata": {
        "id": "d0z8vq-92EuS"
      },
      "source": [
        "- [Contact the human resources department to get your employee-parking permit.](https://en.dict.naver.com/#/search?query=Human%20Resources%20Department&range=example)"
      ]
    },
    {
      "cell_type": "markdown",
      "metadata": {
        "id": "b549Waqky_24"
      },
      "source": [
        "- Who left the briefcase in the lobby?\r\n",
        "- [He rifled through his briefcase and extracted a file.](https://en.dict.naver.com/#/search?query=briefcase&range=example)\r\n",
        "- [ She rifled through her clothes for something suitable to wear. ](https://en.dict.naver.com/#/entry/enko/f15436b62e6f4a70ae86659dac9e13ef)"
      ]
    },
    {
      "cell_type": "markdown",
      "metadata": {
        "id": "NNJJZc9mzAAB"
      },
      "source": [
        "- The people are examining papers."
      ]
    },
    {
      "cell_type": "markdown",
      "metadata": {
        "id": "kqvUnBKjzADM"
      },
      "source": [
        "- The people are gathered around a table."
      ]
    },
    {
      "cell_type": "markdown",
      "metadata": {
        "id": "cZ4FHR_1zAGZ"
      },
      "source": [
        "- Some produce is on display.\r\n",
        "- [We guarantee the freshness of all our produce.](https://en.dict.naver.com/#/search?query=produce&range=example)"
      ]
    },
    {
      "cell_type": "markdown",
      "metadata": {
        "id": "1nbuYKjlzAJw"
      },
      "source": [
        "- People are strolling along a street.\r\n",
        "- [People were strolling along the beach.](https://en.dict.naver.com/#/search?query=strolling&range=example)"
      ]
    },
    {
      "cell_type": "markdown",
      "metadata": {
        "id": "HBcR1LekzASr"
      },
      "source": [
        "- The street is packed with people."
      ]
    },
    {
      "cell_type": "markdown",
      "metadata": {
        "id": "1IA5KIG1ymgu"
      },
      "source": [
        "- Signs are being hung on posts.\r\n",
        "- [A transverse bar joins the two posts.](https://en.dict.naver.com/#/search?range=example&query=posts)"
      ]
    },
    {
      "cell_type": "markdown",
      "metadata": {
        "id": "KyB_wOX1xg8K"
      },
      "source": [
        "- A man is wearing a vest.\r\n",
        "- [The uniform will come with a bullet-proof helmet and vest.](https://en.dict.naver.com/#/search?query=vest&range=example)\r\n",
        "\r\n"
      ]
    },
    {
      "cell_type": "markdown",
      "metadata": {
        "id": "OGLIJ5kNv3Jz"
      },
      "source": [
        "- He is chopping vegetables.\r\n",
        "- [He was chopping logs for firewood.](https://en.dict.naver.com/#/search?query=chopping&range=example)\r\n",
        "\r\n"
      ]
    },
    {
      "cell_type": "markdown",
      "metadata": {
        "id": "p-myEx7rqcKH"
      },
      "source": [
        "\r\n",
        "-ing를 쓰는 상태동사|의미 \r\n",
        ":---|:---|\r\n",
        "hanging| 이미 걸려 있는 상태\r\n",
        "carrying| 이미 멘 상태\r\n",
        "lying| 이미 놓인 상태\r\n",
        "holding| 이미 잡은 상태\r\n",
        "standing| 이미 선 상태\r\n",
        "sitting| 이미 앉은 상태\r\n",
        "wearing| 이미 입은 상태\r\n",
        "\r\n",
        "\r\n",
        "\r\n",
        "\r\n"
      ]
    },
    {
      "cell_type": "markdown",
      "metadata": {
        "id": "hTUwACgWnbdi"
      },
      "source": [
        "\r\n",
        "동작동사             |의미         | 상태동사        | 의미\r\n",
        ":---                 |:---         |:---             |:---\r\n",
        "putting on/trying on | 입다        | wearing         | 입었다\r\n",
        "boarding             | 탑승하다    | riding          | 탑승했다\r\n",
        "getting up           | 일어서다    | standing        | 일어섰다\r\n",
        "taking one's seat    | 자리에 앉다 | sitting         | 앉았다\r\n",
        "picking up           | 집다        | holding/carring | 들었다\r\n",
        "\r\n",
        "\r\n",
        "\r\n",
        "\r\n",
        "\r\n"
      ]
    }
  ]
}