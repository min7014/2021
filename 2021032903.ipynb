{
  "nbformat": 4,
  "nbformat_minor": 0,
  "metadata": {
    "colab": {
      "name": "2021032903.ipynb",
      "provenance": [],
      "collapsed_sections": [],
      "include_colab_link": true
    },
    "kernelspec": {
      "name": "python3",
      "display_name": "Python 3"
    }
  },
  "cells": [
    {
      "cell_type": "markdown",
      "metadata": {
        "id": "view-in-github",
        "colab_type": "text"
      },
      "source": [
        "<a href=\"https://colab.research.google.com/github/min7014/2021/blob/main/2021032903.ipynb\" target=\"_parent\"><img src=\"https://colab.research.google.com/assets/colab-badge.svg\" alt=\"Open In Colab\"/></a>"
      ]
    },
    {
      "cell_type": "markdown",
      "metadata": {
        "id": "_k5tMB9V9yTc"
      },
      "source": [
        "# [제한된 범위에서 이차함수의 최대최소($a>0$)(Maximum and Minimum of Quadratic Functions in a Limited Range($a>0$))](https://min7014.github.io/math20210329001.html)\n"
      ]
    },
    {
      "cell_type": "markdown",
      "metadata": {
        "id": "3HCA2DSogW4y"
      },
      "source": [
        "제한된 범위에서 이차함수의 최대최소(a>0) 사용법 영상\n",
        "\n",
        "https://youtu.be/igf0Mt-_5sU\n",
        "\n",
        "(Maximum and Minimum of Quadratic Functions in a Limited Range(a>0))\n",
        "\n",
        "https://min7014.github.io/math20210329001.html\n",
        "\n",
        "위 자료의 사용을 위해서 만든 영상입니다.\n",
        "\n",
        "영상의 설명에 화면에 나온 글을 그대로 넣어 놓았습니다.\n",
        "\n",
        "위 링크로 들어가면 자료를 볼 수 있습니다.\n",
        "\n",
        "여기에 들어가면 pdf파일이 있습니다.\n",
        "\n",
        "좌우 방향키를 누르면 프리젠테이션을 하듯이 넘겨볼 수 있습니다.\n",
        "\n",
        "위 창을 닫습니다.\n",
        "\n",
        "AlgeoMath의 링크를 열어봅니다.\n",
        "\n",
        "블록코딩창을 닫습니다.\n",
        "\n",
        "화면을 클릭하면 중앙에 자동 정렬 됩니다.\n",
        "\n",
        "일단 A를 눌러봅니다. 체크상자가 다 체크해제됩니다.\n",
        "\n",
        "다시 A를 놀러봅니다. 체크상자가 다 체크됩니다.\n",
        "\n",
        "다시 A를 누르고 오른쪽 방향키를 누릅니다. 하나씩 차례로 체크됩니다.\n",
        "\n",
        "O를 누릅니다. 자동으로 체크해제되었다가 체크됨을 볼 수 있습니다.\n",
        "\n",
        "선택하기 전에 ESC를 누르거나 화면의 선택도구(화살표모양)을 선택해놓습니다.\n",
        "\n",
        "이제 점 A, B와 이차함수를 선택하여 움직여 봅니다.\n",
        "\n",
        "자동으로 최대최소를 y축에 표시합니다.\n",
        "제한된 범위의 최대 최소를 동적으로 확인할 수 있습니다.\n",
        "\n",
        "또한, a<0 은 경우는 \n",
        "\n",
        "https://min7014.github.io/math20210301001.html 에 있습니다.\n",
        "\n",
        "\n"
      ]
    }
  ]
}