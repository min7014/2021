{
  "nbformat": 4,
  "nbformat_minor": 0,
  "metadata": {
    "colab": {
      "name": "2021121701.ipynb",
      "provenance": [],
      "collapsed_sections": [],
      "include_colab_link": true
    },
    "kernelspec": {
      "name": "python3",
      "display_name": "Python 3"
    }
  },
  "cells": [
    {
      "cell_type": "markdown",
      "metadata": {
        "id": "view-in-github",
        "colab_type": "text"
      },
      "source": [
        "<a href=\"https://colab.research.google.com/github/min7014/2021/blob/main/2021121701.ipynb\" target=\"_parent\"><img src=\"https://colab.research.google.com/assets/colab-badge.svg\" alt=\"Open In Colab\"/></a>"
      ]
    },
    {
      "cell_type": "markdown",
      "source": [
        "# 강의 작성중"
      ],
      "metadata": {
        "id": "0lqYMJH5UaYa"
      }
    },
    {
      "cell_type": "markdown",
      "source": [
        "#수학공학도구들\n",
        "\n",
        "수학에서 공학적 도구들에는 [AlgeoMath](https://www.algeomath.kr), [Cabri 3D](https://cabri.com/en/enterprise/cabri-3d), [Cemware](https://www.cemware.com/), [Desmos](https://www.desmos.com), [Excel](https://www.microsoft.com/ko-kr/microsoft-365/excel), [Geogebra](https://www.geogebra.org), [GSP](https://www.keycurriculum.com),  [Maple](https://www.maplesoft.com/products/maple/), [Mathematica](https://www.wolfram.com), [Matlab](https://www.mathworks.com/), [SageMath](https://www.sagemath.org), 등 여러 가지 수학적 도구들이 있습니다. 단순한 계산에서부터 심볼릭 계산까지 그리고 그래프를 그려주기도 하며 작도까지 정적인 기하에서 동적인 기하까지 각각의 도구에 따라 이러한 것들을 다둘 수 있는 도구들입니다.\n",
        "\n",
        "수학에서의 공학적 도구들의 중요함은 연구활동 뿐 아니라 수학공부를 하면서도 활용할 수 있습니다. 이러한 공학적 도구의 중요함을 알고 교육부에서는 AlgeoMath를 개발하였고 세세히 다듬을 필요는 있지만, 수학 수업시간에 쓸 수 있을 정도로 많이 개선된 상태입니다. 외국 소프트웨어가 이미 잘 개발되어 있지만, 저작권과 국내 현실에 맞는 공학적 도구의 개발의 필요성에 따라 개발 된 것입니다. 앞으로도 지속적으로 개발될 것입니다.\n",
        "\n",
        "이러한 도구들로부터 수학적 대상을 시각화하여 직관적으로 대상을 파악하고 그 직관으로부터 예측을 하고 그 예측이 맞는지를 점검하고 또한 경우에 따라 반복적인 대상을 이러한 도구를 활용한 프로그램을 통하여 손으로 할 수 없는 여러 가지 수학적 대상을 다룰 수 있는 것입니다.\n",
        "수학적 시각화를 통하여 연구 활동을 진행할 수 있습니다.\n",
        "\n",
        "여기에 수학에서의 공학적 도구의 사용으로 예시를 든 내용 그동안 만든 여러 자료를 정리한 것입니다. 연구활동한 과정에서 공학적 도구의 사용을 통하여 수학에서 공학적 도구를 어떻게 이용하는지 조금이나마 알게 될 것입니다. 또한, 앞으로 여러분들이 새로운 연구주제를 잡고  이를 수학적 시각화를 통하여 연구활동을 진행하게 될 것입니다.\n",
        "\n",
        "추후에 이 예시된 자료가 국내이서 개발된 AlgeoMath를 활용해서도 만들 수 있기를 바랍니다. 아직은 반복이나 개별도구를 만들 수 있는 도구가 부족하여 조금은 힘들 수 있습니다. 이러한 이유로 Geogebra를 활용한 연구활동을 예시로 들었으며, 여러분의 연구활동 자료가 의미 있고 대외적으로 표현해야하는 것이라면 저작권 등을 고려하여 조금은 어설프지만, AlgeoMath로 구현해 보시기를 권하는 바입니다.\n"
      ],
      "metadata": {
        "id": "y1WKdE4_W3E_"
      }
    },
    {
      "cell_type": "markdown",
      "source": [
        "[선분과 직선 위의 한 점을 가지고(AlgeoMath)](https://min7014.github.io/math20190928002.html)"
      ],
      "metadata": {
        "id": "WA57i-DPSpcQ"
      }
    },
    {
      "cell_type": "markdown",
      "source": [
        "[문제탐구](https://www.geogebra.org/m/gnapd5hv)"
      ],
      "metadata": {
        "id": "PKt2nRf5zV8a"
      }
    },
    {
      "cell_type": "markdown",
      "source": [
        "[예각에 대한 사인법칙 강의록](https://min7014.github.io/2021/2021042604.pdf#toolbar=0&view=FitH&scrollbar=0)\n",
        "\n",
        "- [강의-0210~0400 20211227](https://www.geogebra.org/m/zrqsysf2)\n",
        "- [강의-0410~0600 20211227](https://www.geogebra.org/m/vtp6g5t4)\n",
        "- [강의-0610~0790 20211227](https://www.geogebra.org/m/c86jxrjd)\n"
      ],
      "metadata": {
        "id": "r4TTwfhNIl-m"
      }
    },
    {
      "cell_type": "markdown",
      "source": [
        "[주사위 만들기 (각 눈의 상대도수)(Making Dice (Relative Frequency of The Dice))](https://min7014.github.io/math20210223001.html)\n",
        "\n",
        "- [Jupyter Notebook(Google Colab)](https://colab.research.google.com/github/min7014/2021/blob/main/2021022301.ipynb)"
      ],
      "metadata": {
        "id": "Zem7f0fJxeRf"
      }
    },
    {
      "cell_type": "code",
      "source": [
        ""
      ],
      "metadata": {
        "id": "7NH9_vT1Uibb"
      },
      "execution_count": null,
      "outputs": []
    }
  ]
}