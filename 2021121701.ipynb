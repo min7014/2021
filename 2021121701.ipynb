{
  "nbformat": 4,
  "nbformat_minor": 0,
  "metadata": {
    "colab": {
      "name": "2021121701.ipynb",
      "provenance": [],
      "collapsed_sections": [],
      "include_colab_link": true
    },
    "kernelspec": {
      "name": "python3",
      "display_name": "Python 3"
    }
  },
  "cells": [
    {
      "cell_type": "markdown",
      "metadata": {
        "id": "view-in-github",
        "colab_type": "text"
      },
      "source": [
        "<a href=\"https://colab.research.google.com/github/min7014/2021/blob/main/2021121701.ipynb\" target=\"_parent\"><img src=\"https://colab.research.google.com/assets/colab-badge.svg\" alt=\"Open In Colab\"/></a>"
      ]
    },
    {
      "cell_type": "markdown",
      "source": [
        "# 강의 작성중"
      ],
      "metadata": {
        "id": "0lqYMJH5UaYa"
      }
    },
    {
      "cell_type": "markdown",
      "source": [
        "- 수학공학도구들\n",
        "- 수학에서 공학적 도구들에는 [AlgeoMath](https://www.algeomath.kr), [Cabri 3D](https://cabri.com/en/enterprise/cabri-3d), Cemware[MathCollabo, MathFreeOn v2, MathGrida, MathOnCloud ...], Desmos, Excel, Geogebra, Gsp, SageMath, Maple, Mathematica, Matlab, SageMath\n",
        "\n"
      ],
      "metadata": {
        "id": "y1WKdE4_W3E_"
      }
    },
    {
      "cell_type": "code",
      "source": [
        ""
      ],
      "metadata": {
        "id": "7NH9_vT1Uibb"
      },
      "execution_count": null,
      "outputs": []
    }
  ]
}