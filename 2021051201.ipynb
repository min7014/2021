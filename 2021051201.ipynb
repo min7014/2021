{
  "nbformat": 4,
  "nbformat_minor": 0,
  "metadata": {
    "colab": {
      "name": "2021051201.ipynb",
      "provenance": [],
      "collapsed_sections": [],
      "include_colab_link": true
    },
    "kernelspec": {
      "name": "python3",
      "display_name": "Python 3"
    }
  },
  "cells": [
    {
      "cell_type": "markdown",
      "metadata": {
        "id": "view-in-github",
        "colab_type": "text"
      },
      "source": [
        "<a href=\"https://colab.research.google.com/github/min7014/2021/blob/main/2021051201.ipynb\" target=\"_parent\"><img src=\"https://colab.research.google.com/assets/colab-badge.svg\" alt=\"Open In Colab\"/></a>"
      ]
    },
    {
      "cell_type": "markdown",
      "metadata": {
        "id": "v9q19TnrsJxn"
      },
      "source": [
        "# 2021학년도 경남과학고등학교 수학과 현장연구 강의(2021.05.17)\n",
        "\n"
      ]
    },
    {
      "cell_type": "markdown",
      "metadata": {
        "id": "60dM7hf8tuQW"
      },
      "source": [
        "2021년 경남과학고등학교 수학과 선생님들과 학생들에게 수학에서의 연구라는 주제로 강의를 준비하며 그동안 만든 자료를 다시 보는 계기가 되었습니다. 아마도 여러분께 수학에서의 연구에 대한 경험을 들려주는 것이 앞으로의 연구에 도움되리라 생각되어 실제 그동안 했던 것을 정리하며 수학에서의 연구에 대하여 이야기 해보도록 하겠습니다. \n",
        "\n",
        "수학에서 공학적 도구들에는 AlgeoMath, Cabri 3D, Cemware[MathCollabo, MathFreeOn v2, MathGrida, MathOnCloud ...], Desmos, Excel, Geogebra, Gsp, SageMath, Maple, Mathematica, Matlap, SageMath 등 여러 가지 수학적 도구들이 있습니다. 단순한 계산에서부터 심볼릭 계산까지 그리고 그래프를 그려주기도 하며 작도까지 정적인 기하에서 동적인 기하까지 각각의 도구에 따라 이러한 것들을 다둘 수 있는 도구들입니다.\n",
        "\n",
        "수학에서의 공학적 도구들의 중요함은 연구활동 뿐 아니라 수학공부를 하면서도 활용할 수 있습니다. 이러한 공학적 도구의 중요함을 알고 교육부에서는 AlgeoMath를 개발하였고 세세히 다듬을 필요는 있지만, 수학 수업시간에 쓸 수 있을 정도로 많이 개선된 상태입니다. 외국 소프트웨어가 이미 잘 개발되어 있지만, 저작권과 국내 현실에 맞는 공학적 도구의 개발의 필요성에 따라 개발 된 것입니다. 앞으로도 지속적으로 개발될 것입니다.\n",
        "\n",
        "이러한 도구들로부터 수학적 대상을 시각화하여 직관적으로 대상을 파악하고 그 직관으로부터 예측을 하고 그 예측이 맞는지를 점검하고 또한 경우에 따라 반복적인 대상을 이러한 도구를 활용한 프로그램을 통하여 손으로 할 수 없는 여러 가지 수학적 대상을 다룰 수 있는 것입니다.\n",
        "수학적 시각화를 통하여 연구 활동을 진행할 수 있습니다.\n",
        "\n",
        "여기에 수학에서의 공학적 도구의 사용으로 예시를 든 내용 그동안 만든 여러 자료를 정리한 것입니다. 연구활동한 과정에서 공학적 도구의 사용을 통하여 수학에서 공학적 도구를 어떻게 이용하는지 조금이나마 알게 될 것입니다. 또한, 앞으로 여러분들이 새로운 연구주제를 잡고  이를 수학적 시각화를 통하여 연구활동을 진행하게 될 것입니다.\n",
        "\n",
        "추후에 이 예시된 자료가 국내이서 개발된 AlgeoMath를 활용해서도 만들 수 있기를 바랍니다. 아직은 반복이나 개별도구를 만들 수 있는 도구가 부족하여 조금은 힘들 수 있습니다. 이러한 이유로 Geogebra를 활용한 연구활동을 예시로 들었으며, 여러분의 연구활동 자료가 의미 있고 대외적으로 표현해야하는 것이라면 저작권 등을 고려하여 조금은 어설프지만, AlgeoMath로 구현해 보시기를 권하는 바입니다."
      ]
    },
    {
      "cell_type": "markdown",
      "metadata": {
        "id": "y-npG7TK5v6A"
      },
      "source": [
        "## Introduction of various Engineering Tools for Mathemathics\n",
        "  - 공학도구를 사용를 활용한 수학과제 탐구 방법에 대한 제안(Proposal for a method of exploring mathematics subject using engineering tools)\n",
        "  - 여러가지 공학도구 소개(Introduction of various engineering tools)\n",
        "    - [AlgeoMath](https://www.algeomath.kr)\n",
        "    - [Cabri 3D](https://cabri.com/en/enterprise/cabri-3d/)\n",
        "    - [Cemware[MathCollabo, MathFreeOn v2, MathGrida, MathOnCloud ...]](https://www.cemware.com/)\n",
        "    - [Desmos](https://www.desmos.com/)\n",
        "    - [Excel](https://www.microsoft.com/ko-kr/microsoft-365/excel)\n",
        "    - [Geogebra](https://www.geogebra.org)\n",
        "    - [Gsp](https://sketchpad.keycurriculum.com)\n",
        "    - [Maple](https://www.maplesoft.com)\n",
        "    - [Mathematica](https://www.wolfram.com/)\n",
        "    - [Matlap](https://www.mathworks.com/products/matlab.html)\n",
        "    - [SageMath](https://www.sagemath.org/)\n",
        "    - ..."
      ]
    },
    {
      "cell_type": "markdown",
      "metadata": {
        "id": "D8ruXLE55w4P"
      },
      "source": [
        "## 작도에 의한 공학 도구 사용(Use of engineering tools by construction)\n",
        "  - [선분과 직선상의 한 점을 가지고 직각삼각형 작도하기(Constructing a right triangle from a line segment and a point on a straight line)](https://min7014.github.io/math20190928002.html)\n",
        "  - [선분과 직선 위의 한 점을 가지고 직각삼각형 작도하기(만든 과정에 대한 영상과 AlgeoMath 자료)](http://me2.do/5ZGXsJ4S)\n",
        "  - [선분과 직선 위의 한 점을 가지고 이등변삼각형 작도하기(만든 과정에 대한 영상과 AlgeoMath 자료)](http://me2.do/5vDr6pCN)\n",
        "  \n",
        "  "
      ]
    },
    {
      "cell_type": "markdown",
      "metadata": {
        "id": "jcGAMSlx5x53"
      },
      "source": [
        "## 프로그래밍에 의한 공학 도구 사용(Use of engineering tools by programming)\n",
        "  - 반복적인 수학적 실험(Repetitive mathematical experiment)\n",
        "  - Geogebra Script\n",
        "    - [대푯값과 산포도(Representative Value and Degree of Scattering) Geogebra 스크립트 활용1)](https://min7014.github.io/math20210309002.html)\n",
        "    - [주사위만들기(Making dice) Geogebra 스크립트 활용2)](https://min7014.github.io/math20210302002.html)\n",
        "    - [타원 내부에서의 포락선 강의록(Lecture notes on the envelope inside the ellipse)](https://min7014.github.io/2021/2021042618.pdf#toolbar=0&view=FitH&scrollbar=0) \n",
        "  - AlgeoMath Block Coding  \n",
        "    - [Sierpinski Triangle](http://me2.do/FirUt3d2)\n",
        "    - [Sierpinski triangle using the chaos game](http://me2.do/FirUt3d2)\n",
        "  - Presentaion by AlgeoMath\n",
        "    - 체크박스로 모든 과정이 나타나는 자료만들기\n",
        "    - 체크박스자동화 2019.11.23(기본양식 + 사용설명) : http://me2.do/x7zFc5v0\n",
        "    - 체크박스자동화 2019.11.23(기본양식) : http://me2.do/5X3Siuoj\n"
      ]
    },
    {
      "cell_type": "markdown",
      "metadata": {
        "id": "Drasv3q58j5H"
      },
      "source": [
        "## Additional Resources\n",
        "- [Library of Teacher Min Eun Gi's Mathematical Resource](https://min7014.github.io/)\n",
        "- [Algeomath by Min Eun Gi](http://me2.do/5qso0BiT)\n",
        "- [Geogebra by Min Eun Gi](https://www.geogebra.org/u/min7014)\n",
        "- [세 점에서 거리의 합이 최소인 점[경사하강법](Point at which the sum of the distances from the three points is minimum[gradient descent])](https://min7014.github.io/math20210429001.html) [작도](https://www.geogebra.org/m/cvesbeau)\n",
        "- [Geogebra와 수학의 시각화](https://colab.research.google.com/github/min7014/2021/blob/main/2021042602.ipynb#scrollTo=Pgaw50WPV1Iw) 책에 사용되었으면 저 링크를 통해 들어가시면 강의록이 각각 공개되어 있습니다. 또한, 추가되는 강의록 및 실습자료를 [수학자료실 강의실](https://min7014.github.io/math20191130002.html) 에 넣어 놓았습니다."
      ]
    }
  ]
}