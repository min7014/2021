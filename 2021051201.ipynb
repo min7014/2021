{
  "nbformat": 4,
  "nbformat_minor": 0,
  "metadata": {
    "colab": {
      "name": "2021051201.ipynb",
      "provenance": [],
      "collapsed_sections": [],
      "include_colab_link": true
    },
    "kernelspec": {
      "name": "python3",
      "display_name": "Python 3"
    }
  },
  "cells": [
    {
      "cell_type": "markdown",
      "metadata": {
        "id": "view-in-github",
        "colab_type": "text"
      },
      "source": [
        "<a href=\"https://colab.research.google.com/github/min7014/2021/blob/main/2021051201.ipynb\" target=\"_parent\"><img src=\"https://colab.research.google.com/assets/colab-badge.svg\" alt=\"Open In Colab\"/></a>"
      ]
    },
    {
      "cell_type": "markdown",
      "metadata": {
        "id": "v9q19TnrsJxn"
      },
      "source": [
        "# 2021학년도 경남과학고등학교 수학과 현장연구 강의(2021.05.12) [작성중]\n",
        "\n"
      ]
    },
    {
      "cell_type": "markdown",
      "metadata": {
        "id": "y-npG7TK5v6A"
      },
      "source": [
        "## 1교시 : 공학도구 소개\n",
        "  - 공학도구를 사용를 활용한 수학과제 탐구 방법에 대한 제안\n",
        "  - 여러가지 공학도구 소개\n",
        "  - 알지오매스(AlgeoMath) 소개\n",
        "  - 지오지브라(Geogebra) 소개\n",
        "  "
      ]
    },
    {
      "cell_type": "markdown",
      "metadata": {
        "id": "D8ruXLE55w4P"
      },
      "source": [
        "## 2교시 : 공학도구를 활용한 예시 1\n",
        "  - 선분과 직선상의 한 점을 가지고 직각삼각형 작도하기 : https://min7014.github.io/math20190928002.html\n",
        "  - 선분과 직선 위의 한 점을 가지고 직각삼각형 작도하기(만든 과정에 대한 영상과 AlgeoMath 자료) : http://me2.do/5ZGXsJ4S\n",
        "  - 선분과 직선 위의 한 점을 가지고 이등변삼각형 작도하기(만든 과정에 대한 영상과 AlgeoMath 자료) : http://me2.do/5vDr6pCN\n",
        "  - 체크박스로 모든 과정이 나타나는 자료만들기\n",
        "  - 체크박스자동화 2019.11.23(기본양식 + 사용설명) : http://me2.do/x7zFc5v0\n",
        "  - 체크박스자동화 2019.11.23(기본양식) : http://me2.do/5X3Siuoj\n",
        "  "
      ]
    },
    {
      "cell_type": "markdown",
      "metadata": {
        "id": "jcGAMSlx5x53"
      },
      "source": [
        "## 3교시 : 공학도구를 활용한 예시 2\n",
        "  - 반복적인 수학적 실험은 블록코딩이나 Geogebra script 활용\n",
        "  - [Sierpinski Triangle](http://me2.do/FirUt3d2)\n",
        "  - [Sierpinski triangle using the chaos game](http://me2.do/FirUt3d2)\n",
        "  - [타원 내부에서의 포락선 강의록](https://min7014.github.io/2021/2021042618.pdf#toolbar=0&view=FitH&scrollbar=0) "
      ]
    },
    {
      "cell_type": "markdown",
      "metadata": {
        "id": "Drasv3q58j5H"
      },
      "source": [
        "# 참고\n",
        "- [Geogebra와 수학의 시각화](https://colab.research.google.com/github/min7014/2021/blob/main/2021042602.ipynb#scrollTo=Pgaw50WPV1Iw) 책에 사용되었으면 저 링크를 통해 들어가시면 강의록이 각각 공개되어 있습니다. 또한, 추가되는 강의록 및 실습자료를\n",
        "\n",
        "- [수학자료실 강의실](https://min7014.github.io/math20191130002.html) 에 넣어 놓았습니다."
      ]
    }
  ]
}