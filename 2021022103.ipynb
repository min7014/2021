{
  "nbformat": 4,
  "nbformat_minor": 0,
  "metadata": {
    "colab": {
      "name": "2021022103.ipynb",
      "provenance": [],
      "collapsed_sections": [],
      "include_colab_link": true
    },
    "kernelspec": {
      "name": "python3",
      "display_name": "Python 3"
    }
  },
  "cells": [
    {
      "cell_type": "markdown",
      "metadata": {
        "id": "view-in-github",
        "colab_type": "text"
      },
      "source": [
        "<a href=\"https://colab.research.google.com/github/min7014/2021/blob/main/2021022103.ipynb\" target=\"_parent\"><img src=\"https://colab.research.google.com/assets/colab-badge.svg\" alt=\"Open In Colab\"/></a>"
      ]
    },
    {
      "cell_type": "markdown",
      "metadata": {
        "id": "nM76bGPbCGbp"
      },
      "source": [
        "# [**주사위만들기(Making dice)**](https://min7014.github.io/math20210221003.html)"
      ]
    },
    {
      "cell_type": "markdown",
      "metadata": {
        "id": "VzTuzzmHCMj1"
      },
      "source": [
        "### [참고]\n",
        "Geogebra와 수학의 시각화 책의 가상주사위 만들기를 참고하여 수업에 실제 적용함.\n",
        "\n",
        "[Geogebra와 수학의 시각화](https://www.geogebra.org/m/gsARCQs5)"
      ]
    },
    {
      "cell_type": "markdown",
      "metadata": {
        "id": "RVQVu9Gn5MKE"
      },
      "source": [
        "**[영문버전]**"
      ]
    },
    {
      "cell_type": "markdown",
      "metadata": {
        "id": "IiBNQY6wvk6n"
      },
      "source": [
        "https://www.geogebra.org/m/uxvpxpz3"
      ]
    },
    {
      "cell_type": "markdown",
      "metadata": {
        "id": "IHqiWT3-5hKk"
      },
      "source": [
        "\n",
        "![image.png](data:image/png;base64,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)\n",
        "\n"
      ]
    },
    {
      "cell_type": "markdown",
      "metadata": {
        "id": "fiEJpl3vfxhP"
      },
      "source": [
        "\n",
        "01. Geogebra를 실행시킨다.\n",
        "02. Input에\n",
        "\n",
        "    **Dice=RandomBetween(1, 6)**\n",
        "    \n",
        "    을 입력하여 Dice라는 수를 만든다.\n",
        "    \n",
        "    경우에 따라서는 Dice가 수가 기본값이 최댓값이 5인 슬라이더로 되어 6이 표현 안되는 경우가 있다.\n",
        "    이러한 경우 최댓값을 6으로 조정해주면 된다.\n",
        "\n",
        "03. **[Ctrl]+[R]** 키를 누르면서 Dice가 변하는 것을 살펴본다.\n",
        "\n",
        "이때, Dice 수가 RandomBetween이란 함수에 의해서 1에서 6까지 변하는 것을 살펴본다.\n",
        "\n",
        "변하는 수를 6개, 12개, 18개, 60개 공책에 쓰면서 1에서 6까지 나오는 수의 개수를 세어본다.\n",
        "\n",
        "나오는 수가 전체개수에 6분의 1의 개수에 점점 근접함을 살펴본다.\n",
        "\n",
        "\n",
        "\n",
        "\n"
      ]
    },
    {
      "cell_type": "markdown",
      "metadata": {
        "id": "rqYIyz835dy6"
      },
      "source": [
        "**[한글버전]**"
      ]
    },
    {
      "cell_type": "markdown",
      "metadata": {
        "id": "JQ8WIw5c5PS0"
      },
      "source": [
        "\n",
        "![image.png](data:image/png;base64,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)\n"
      ]
    },
    {
      "cell_type": "markdown",
      "metadata": {
        "id": "_EyN5GIm5XUk"
      },
      "source": [
        "\n",
        "01. Geogebra를 실행시킨다.\n",
        "02. 입력창에\n",
        "\n",
        "    **주사위=랜덤[1,6]**\n",
        "\n",
        "    을 입력하여 주사위라는 수를 만든다.\n",
        "    \n",
        "    경우에 따라서는 주사위가 수가 기본값이 최댓값이 5인 슬라이더로 되어 6이 표현 안되는 경우가 있다.\n",
        "    이러한 경우 최댓값을 6으로 조정해주면 된다.\n",
        "\n",
        "03. **[Ctrl]+[R]** 키를 누르면서 주사위가 변하는 것을 살펴본다.\n",
        "\n",
        "이때, 주사위 수가 랜덤이란 함수에 의해서 1에서 6까지 변하는 것을 살펴본다.\n",
        "\n",
        "변하는 수를 6개, 12개, 18개, 60개 공책에 쓰면서 1에서 6까지 나오는 수의 개수를 세어본다.\n",
        "\n",
        "나오는 수가 전체개수에 6분의 1의 개수에 점점 근접함을 살펴본다."
      ]
    }
  ]
}