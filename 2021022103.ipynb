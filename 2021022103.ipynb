{
  "nbformat": 4,
  "nbformat_minor": 0,
  "metadata": {
    "colab": {
      "name": "2021022103.ipynb",
      "provenance": [],
      "collapsed_sections": [],
      "authorship_tag": "ABX9TyNKkdoc//TIRFS1CLD6AR1r",
      "include_colab_link": true
    },
    "kernelspec": {
      "name": "python3",
      "display_name": "Python 3"
    }
  },
  "cells": [
    {
      "cell_type": "markdown",
      "metadata": {
        "id": "view-in-github",
        "colab_type": "text"
      },
      "source": [
        "<a href=\"https://colab.research.google.com/github/min7014/2021/blob/main/2021022103.ipynb\" target=\"_parent\"><img src=\"https://colab.research.google.com/assets/colab-badge.svg\" alt=\"Open In Colab\"/></a>"
      ]
    },
    {
      "cell_type": "markdown",
      "metadata": {
        "id": "fiEJpl3vfxhP"
      },
      "source": [
        "# **주사위 만들기1**\r\n",
        "\r\n",
        "01. Geogebra를 실행시킨다.\r\n",
        "02. 입력창에\r\n",
        "\r\n",
        "    **주사위=랜덤[1,6]**\r\n",
        "    \r\n",
        "    을 입력하여 주사위라는 수를 만든다.\r\n",
        "    \r\n",
        "    경우에 따라서는 주사위가 수가 기본값이 최댓값이 5인 슬라이더로 되어 6이 표현 안되는 경우가 있다.\r\n",
        "    이러한 경우 최댓값을 6으로 조정해주면 된다.\r\n",
        "\r\n",
        "03. **[Ctrl]+[R]** 키를 누르면서 주사위가 변하는 것을 살펴본다.\r\n",
        "\r\n",
        "이때, 주사위 수가 랜덤이란 함수에 의해서 1에서 6까지 변하는 것을 살펴본다.\r\n",
        "\r\n",
        "변하는 수를 6개, 12개, 18개, 60개 공책에 쓰면서 1에서 6까지 나오는 수의 개수를 세어본다.\r\n",
        "\r\n",
        "나오는 수가 전체개수에 6분의 1의 개수에 점점 근접함을 살펴본다.\r\n"
      ]
    },
    {
      "cell_type": "code",
      "metadata": {
        "id": "AQJeK-upfoQe"
      },
      "source": [
        ""
      ],
      "execution_count": null,
      "outputs": []
    }
  ]
}