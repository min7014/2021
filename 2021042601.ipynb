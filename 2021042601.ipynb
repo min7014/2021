{
  "nbformat": 4,
  "nbformat_minor": 0,
  "metadata": {
    "colab": {
      "name": "2021042601.ipynb",
      "provenance": [],
      "include_colab_link": true
    },
    "kernelspec": {
      "name": "python3",
      "display_name": "Python 3"
    }
  },
  "cells": [
    {
      "cell_type": "markdown",
      "metadata": {
        "id": "view-in-github",
        "colab_type": "text"
      },
      "source": [
        "<a href=\"https://colab.research.google.com/github/min7014/2021/blob/main/2021042601.ipynb\" target=\"_parent\"><img src=\"https://colab.research.google.com/assets/colab-badge.svg\" alt=\"Open In Colab\"/></a>"
      ]
    },
    {
      "cell_type": "markdown",
      "metadata": {
        "id": "v9q19TnrsJxn"
      },
      "source": [
        "# 2013 일정연수 강의 연수 자료([옮기는 중](http://min7014.iptime.org/origin/%EC%88%98%ED%95%99%EC%9E%90%EB%A3%8C%EC%8B%A4/2013%20%EC%9D%BC%EC%A0%95%EC%97%B0%EC%88%98%20%EA%B0%95%EC%9D%98%20%EC%97%B0%EC%88%98%20%EC%9E%90%EB%A3%8C.htm))\n",
        "\n",
        "[Geogebra와 수학의 시각화](https://colab.research.google.com/github/min7014/2021/blob/main/2021042602.ipynb#scrollTo=Pgaw50WPV1Iw)\n",
        "\n",
        "책에 사용되었으면 저 링크를 통해 들어가시면 강의록이 각각 공개되어 있습니다.\n",
        "\n",
        "또한, 추가되는 강의록 및 실습자료를\n",
        "\n",
        "[수학자료실 강의실](https://min7014.github.io/math20191130002.html)\n",
        "\n",
        "에 넣어 놓았습니다."
      ]
    },
    {
      "cell_type": "markdown",
      "metadata": {
        "id": "2uw35zpOUaxw"
      },
      "source": [
        "## 1교시\n",
        "\n",
        "- [삼각형의 세 변의 수직이등분선은 한 점(외심)에서 만나고 이 점(외심)에서 세 꼭짓점에 이르는 거리는 같다.(The vertical bisector of the three sides of the triangle meet at one point (circumcenter) and the distance from this point (circumcenter) to the three vertices is the same.)](https://min7014.github.io/math20191203001.html)\n",
        "\n",
        "- [중점연결정리 : 삼각형의 두 변의 중점을 연결한 선분은 나머지 변과 평행하고 길이는 나머지 변의 길이의 반이다.(Midpoint Theorem : The line segment connecting the midpoints of two sides of a triangle is parallel to the other side, and its length is half the length of the other side.)](https://min7014.github.io/math20191226001.html)\n",
        "\n",
        "- 설치, 소개, 기본사용(1시간)"
      ]
    },
    {
      "cell_type": "markdown",
      "metadata": {
        "id": "3LpnvB0yzdfK"
      },
      "source": [
        "## 2교시 3교시\n",
        "\n",
        "- [예각에 대한 사인법칙(The Law of Sines for Acute Angle)](https://min7014.github.io/math20201110001.html)\n",
        "\n",
        "- 연수내용의 사인법칙 예각에 대한 자료 같이 만들기(2시간)\n",
        "\n",
        "- cas 사용 소개 및 실습\n",
        "\n",
        "- [데이터의 분석](https://colab.research.google.com/github/min7014/2023/blob/main/2023120302.ipynb)\n",
        "\n",
        "- [별관측데이타](https://min7014.github.io/2021/2021042619.xls)"
      ]
    },
    {
      "cell_type": "markdown",
      "metadata": {
        "id": "1yYF0LPXziti"
      },
      "source": [
        "## 4교시\n",
        "\n",
        "- 연습문제  작도 해보기(1시간)\n",
        "\n",
        "- [주어진 선분과 주어진 직선 상의 점으로 직각 삼각형 만들기](https://min7014.github.io/2019/2019062401.pdf#toolbar=0&view=FitH&scrollbar=0)\n",
        "\n",
        "- [주어진 선분과 주어진 직선 상의 점으로 이등변 삼각형 만들기](https://min7014.github.io/2019/2019062401.pdf#toolbar=0&view=FitH&scrollbar=0)\n",
        "\n",
        "- 무게중심에서 각 변의 중점까지 이르는 거리가 주어 졌을 때 삼각형 작도하기\n",
        "\n",
        "- 무게중심에서 각 꼭지점까지 이르는 거리가 주어 졌을 때 삼각형 작도하기\n",
        "\n",
        "- 한 꼭지점 무게중심 외심이 주어졌을 때 삼각형 작도하기\n",
        "\n",
        "- 한 점 A 무게중심 G 반직선 GB 반직선 GC 가 주어졌을 때 삼각형 작도\n",
        "\n",
        "- 세 점에서 거리의 합이 최소인 점\n",
        "\n",
        "- 네 점에서 거리의 합이 최소인 점"
      ]
    },
    {
      "cell_type": "markdown",
      "metadata": {
        "id": "o7bPVON0zl_g"
      },
      "source": [
        "## 5교시 6교시\n",
        "\n",
        "고급 강의 남은 시간에 따라 추가\n",
        "\n",
        "정육각형 외부에서 변을 따라 정삼각형을 움직이기\n",
        "\n",
        "정육각형 내부에서 변을 따라 정삼각형을 움직이기\n",
        "\n",
        "y=sin(x) y=cos(x) y=tan(x) 모두\n",
        "\n",
        ""
      ]
    }
  ]
}