{
  "nbformat": 4,
  "nbformat_minor": 0,
  "metadata": {
    "colab": {
      "name": "2021042601.ipynb",
      "provenance": [],
      "collapsed_sections": [],
      "include_colab_link": true
    },
    "kernelspec": {
      "name": "python3",
      "display_name": "Python 3"
    }
  },
  "cells": [
    {
      "cell_type": "markdown",
      "metadata": {
        "id": "view-in-github",
        "colab_type": "text"
      },
      "source": [
        "<a href=\"https://colab.research.google.com/github/min7014/2021/blob/main/2021042601.ipynb\" target=\"_parent\"><img src=\"https://colab.research.google.com/assets/colab-badge.svg\" alt=\"Open In Colab\"/></a>"
      ]
    },
    {
      "cell_type": "markdown",
      "metadata": {
        "id": "v9q19TnrsJxn"
      },
      "source": [
        "# 2013 일정연수 강의 연수 자료\n",
        "\n",
        "[Geogebra와 수학의 시각화](https://colab.research.google.com/github/min7014/2021/blob/main/2021042602.ipynb#scrollTo=Pgaw50WPV1Iw)\n",
        "\n",
        "책에 사용되었으면 저 링크를 통해 들어가시면 강의록이 각각 공개되어 있습니다.\n",
        "\n",
        "또한, 추가되는 강의록 및 실습자료를\n",
        "\n",
        "수학자료실 강의실 : https://goo.gl/fcIInI\n",
        "\n",
        "에 넣어 놓았습니다."
      ]
    },
    {
      "cell_type": "markdown",
      "metadata": {
        "id": "2uw35zpOUaxw"
      },
      "source": [
        "## 1교시\n",
        "\n",
        "pc 삼각형의 세 변의 수직이등분선은 한점(외심)에서 만나고 이 점(외심)에서 세 꼭짓점에 이르는 거리는 같다  \n",
        "\n",
        "pc 삼각형 중점연결정리 1\n",
        "\n",
        "설치, 소개, 기본사용(1시간)"
      ]
    }
  ]
}